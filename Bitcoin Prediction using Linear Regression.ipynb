{
 "cells": [
  {
   "cell_type": "code",
   "execution_count": 1,
   "id": "acc7a187",
   "metadata": {},
   "outputs": [
    {
     "name": "stdout",
     "output_type": "stream",
     "text": [
      "Collecting pycoingecko\n",
      "  Downloading pycoingecko-2.2.0-py3-none-any.whl (8.3 kB)\n",
      "Requirement already satisfied: requests in ./opt/anaconda3/lib/python3.8/site-packages (from pycoingecko) (2.25.1)\n",
      "Requirement already satisfied: chardet<5,>=3.0.2 in ./opt/anaconda3/lib/python3.8/site-packages (from requests->pycoingecko) (4.0.0)\n",
      "Requirement already satisfied: idna<3,>=2.5 in ./opt/anaconda3/lib/python3.8/site-packages (from requests->pycoingecko) (2.10)\n",
      "Requirement already satisfied: certifi>=2017.4.17 in ./opt/anaconda3/lib/python3.8/site-packages (from requests->pycoingecko) (2020.12.5)\n",
      "Requirement already satisfied: urllib3<1.27,>=1.21.1 in ./opt/anaconda3/lib/python3.8/site-packages (from requests->pycoingecko) (1.26.4)\n",
      "Installing collected packages: pycoingecko\n",
      "Successfully installed pycoingecko-2.2.0\n"
     ]
    }
   ],
   "source": [
    "!pip install pycoingecko\n",
    "from pycoingecko import CoinGeckoAPI\n",
    "cg = CoinGeckoAPI()\n",
    "bitcoin_data = cg.get_coin_market_chart_by_id(id = \"bitcoin\",vs_currency= \"inr\",days = \"30\")"
   ]
  },
  {
   "cell_type": "code",
   "execution_count": 5,
   "id": "3a8080c9",
   "metadata": {},
   "outputs": [
    {
     "name": "stdout",
     "output_type": "stream",
     "text": [
      "Collecting plotly==5.6.0\n",
      "  Downloading plotly-5.6.0-py2.py3-none-any.whl (27.7 MB)\n",
      "\u001b[K     |████████████████████████████████| 27.7 MB 19 kB/s  eta 0:00:01    |▎                               | 286 kB 5.5 MB/s eta 0:00:05\n",
      "\u001b[?25hRequirement already satisfied: six in ./opt/anaconda3/lib/python3.8/site-packages (from plotly==5.6.0) (1.15.0)\n",
      "Collecting tenacity>=6.2.0\n",
      "  Downloading tenacity-8.0.1-py3-none-any.whl (24 kB)\n",
      "Installing collected packages: tenacity, plotly\n",
      "Successfully installed plotly-5.6.0 tenacity-8.0.1\n"
     ]
    }
   ],
   "source": [
    "!pip install plotly==5.6.0"
   ]
  },
  {
   "cell_type": "code",
   "execution_count": 43,
   "id": "e5411e5b",
   "metadata": {},
   "outputs": [],
   "source": [
    "import matplotlib.pyplot as plt\n",
    "import pandas as pd\n",
    "import plotly.graph_objects as go\n",
    "from datetime import datetime\n",
    "import matplotlib.pyplot as plt\n",
    "from sklearn import model_selection\n",
    "from sklearn.linear_model import LinearRegression\n",
    "from sklearn.metrics import mean_squared_error, r2_score\n",
    "from sklearn.model_selection import train_test_split\n",
    "import numpy as np"
   ]
  },
  {
   "cell_type": "code",
   "execution_count": 7,
   "id": "0fb49acf",
   "metadata": {},
   "outputs": [
    {
     "data": {
      "text/html": [
       "<div>\n",
       "<style scoped>\n",
       "    .dataframe tbody tr th:only-of-type {\n",
       "        vertical-align: middle;\n",
       "    }\n",
       "\n",
       "    .dataframe tbody tr th {\n",
       "        vertical-align: top;\n",
       "    }\n",
       "\n",
       "    .dataframe thead th {\n",
       "        text-align: right;\n",
       "    }\n",
       "</style>\n",
       "<table border=\"1\" class=\"dataframe\">\n",
       "  <thead>\n",
       "    <tr style=\"text-align: right;\">\n",
       "      <th></th>\n",
       "      <th>Timestamp</th>\n",
       "      <th>Price</th>\n",
       "      <th>Date</th>\n",
       "    </tr>\n",
       "  </thead>\n",
       "  <tbody>\n",
       "    <tr>\n",
       "      <th>0</th>\n",
       "      <td>1642870885598</td>\n",
       "      <td>2.612876e+06</td>\n",
       "      <td>2022-01-22 17:01:25.598</td>\n",
       "    </tr>\n",
       "    <tr>\n",
       "      <th>1</th>\n",
       "      <td>1642874429377</td>\n",
       "      <td>2.577309e+06</td>\n",
       "      <td>2022-01-22 18:00:29.377</td>\n",
       "    </tr>\n",
       "    <tr>\n",
       "      <th>2</th>\n",
       "      <td>1642878479406</td>\n",
       "      <td>2.569563e+06</td>\n",
       "      <td>2022-01-22 19:07:59.406</td>\n",
       "    </tr>\n",
       "    <tr>\n",
       "      <th>3</th>\n",
       "      <td>1642881707361</td>\n",
       "      <td>2.575156e+06</td>\n",
       "      <td>2022-01-22 20:01:47.361</td>\n",
       "    </tr>\n",
       "    <tr>\n",
       "      <th>4</th>\n",
       "      <td>1642885302767</td>\n",
       "      <td>2.639259e+06</td>\n",
       "      <td>2022-01-22 21:01:42.767</td>\n",
       "    </tr>\n",
       "    <tr>\n",
       "      <th>...</th>\n",
       "      <td>...</td>\n",
       "      <td>...</td>\n",
       "      <td>...</td>\n",
       "    </tr>\n",
       "    <tr>\n",
       "      <th>713</th>\n",
       "      <td>1645448418360</td>\n",
       "      <td>2.804558e+06</td>\n",
       "      <td>2022-02-21 13:00:18.360</td>\n",
       "    </tr>\n",
       "    <tr>\n",
       "      <th>714</th>\n",
       "      <td>1645452035308</td>\n",
       "      <td>2.810307e+06</td>\n",
       "      <td>2022-02-21 14:00:35.308</td>\n",
       "    </tr>\n",
       "    <tr>\n",
       "      <th>715</th>\n",
       "      <td>1645455666571</td>\n",
       "      <td>2.898950e+06</td>\n",
       "      <td>2022-02-21 15:01:06.571</td>\n",
       "    </tr>\n",
       "    <tr>\n",
       "      <th>716</th>\n",
       "      <td>1645459298034</td>\n",
       "      <td>2.896470e+06</td>\n",
       "      <td>2022-02-21 16:01:38.034</td>\n",
       "    </tr>\n",
       "    <tr>\n",
       "      <th>717</th>\n",
       "      <td>1645460238000</td>\n",
       "      <td>2.907507e+06</td>\n",
       "      <td>2022-02-21 16:17:18.000</td>\n",
       "    </tr>\n",
       "  </tbody>\n",
       "</table>\n",
       "<p>718 rows × 3 columns</p>\n",
       "</div>"
      ],
      "text/plain": [
       "         Timestamp         Price                    Date\n",
       "0    1642870885598  2.612876e+06 2022-01-22 17:01:25.598\n",
       "1    1642874429377  2.577309e+06 2022-01-22 18:00:29.377\n",
       "2    1642878479406  2.569563e+06 2022-01-22 19:07:59.406\n",
       "3    1642881707361  2.575156e+06 2022-01-22 20:01:47.361\n",
       "4    1642885302767  2.639259e+06 2022-01-22 21:01:42.767\n",
       "..             ...           ...                     ...\n",
       "713  1645448418360  2.804558e+06 2022-02-21 13:00:18.360\n",
       "714  1645452035308  2.810307e+06 2022-02-21 14:00:35.308\n",
       "715  1645455666571  2.898950e+06 2022-02-21 15:01:06.571\n",
       "716  1645459298034  2.896470e+06 2022-02-21 16:01:38.034\n",
       "717  1645460238000  2.907507e+06 2022-02-21 16:17:18.000\n",
       "\n",
       "[718 rows x 3 columns]"
      ]
     },
     "execution_count": 7,
     "metadata": {},
     "output_type": "execute_result"
    }
   ],
   "source": [
    "#Explore data\n",
    "df = pd.DataFrame(bitcoin_data[\"prices\"],columns = [\"Timestamp\",\"Price\"])\n",
    "df[\"Date\"] = pd.to_datetime(df[\"Timestamp\"], unit = 'ms')\n",
    "df"
   ]
  },
  {
   "cell_type": "code",
   "execution_count": 11,
   "id": "1ed68f85",
   "metadata": {},
   "outputs": [
    {
     "name": "stdout",
     "output_type": "stream",
     "text": [
      "The dataset shape is (718, 3).\n"
     ]
    }
   ],
   "source": [
    "shape = df.shape\n",
    "print(\"The dataset shape is {}.\".format(shape))"
   ]
  },
  {
   "cell_type": "code",
   "execution_count": 28,
   "id": "8f3344cf",
   "metadata": {},
   "outputs": [
    {
     "data": {
      "text/plain": [
       "Timestamp             int64\n",
       "Price               float64\n",
       "Date         datetime64[ns]\n",
       "dtype: object"
      ]
     },
     "execution_count": 28,
     "metadata": {},
     "output_type": "execute_result"
    }
   ],
   "source": [
    "df.dtypes"
   ]
  },
  {
   "cell_type": "code",
   "execution_count": 12,
   "id": "1669c44e",
   "metadata": {},
   "outputs": [
    {
     "data": {
      "text/html": [
       "<div>\n",
       "<style scoped>\n",
       "    .dataframe tbody tr th:only-of-type {\n",
       "        vertical-align: middle;\n",
       "    }\n",
       "\n",
       "    .dataframe tbody tr th {\n",
       "        vertical-align: top;\n",
       "    }\n",
       "\n",
       "    .dataframe thead th {\n",
       "        text-align: right;\n",
       "    }\n",
       "</style>\n",
       "<table border=\"1\" class=\"dataframe\">\n",
       "  <thead>\n",
       "    <tr style=\"text-align: right;\">\n",
       "      <th></th>\n",
       "      <th>Timestamp</th>\n",
       "      <th>Price</th>\n",
       "    </tr>\n",
       "  </thead>\n",
       "  <tbody>\n",
       "    <tr>\n",
       "      <th>count</th>\n",
       "      <td>7.180000e+02</td>\n",
       "      <td>7.180000e+02</td>\n",
       "    </tr>\n",
       "    <tr>\n",
       "      <th>mean</th>\n",
       "      <td>1.644167e+12</td>\n",
       "      <td>2.998185e+06</td>\n",
       "    </tr>\n",
       "    <tr>\n",
       "      <th>std</th>\n",
       "      <td>7.516533e+08</td>\n",
       "      <td>2.280793e+05</td>\n",
       "    </tr>\n",
       "    <tr>\n",
       "      <th>min</th>\n",
       "      <td>1.642871e+12</td>\n",
       "      <td>2.500810e+06</td>\n",
       "    </tr>\n",
       "    <tr>\n",
       "      <th>25%</th>\n",
       "      <td>1.643520e+12</td>\n",
       "      <td>2.802891e+06</td>\n",
       "    </tr>\n",
       "    <tr>\n",
       "      <th>50%</th>\n",
       "      <td>1.644161e+12</td>\n",
       "      <td>2.988159e+06</td>\n",
       "    </tr>\n",
       "    <tr>\n",
       "      <th>75%</th>\n",
       "      <td>1.644821e+12</td>\n",
       "      <td>3.214935e+06</td>\n",
       "    </tr>\n",
       "    <tr>\n",
       "      <th>max</th>\n",
       "      <td>1.645460e+12</td>\n",
       "      <td>3.417080e+06</td>\n",
       "    </tr>\n",
       "  </tbody>\n",
       "</table>\n",
       "</div>"
      ],
      "text/plain": [
       "          Timestamp         Price\n",
       "count  7.180000e+02  7.180000e+02\n",
       "mean   1.644167e+12  2.998185e+06\n",
       "std    7.516533e+08  2.280793e+05\n",
       "min    1.642871e+12  2.500810e+06\n",
       "25%    1.643520e+12  2.802891e+06\n",
       "50%    1.644161e+12  2.988159e+06\n",
       "75%    1.644821e+12  3.214935e+06\n",
       "max    1.645460e+12  3.417080e+06"
      ]
     },
     "execution_count": 12,
     "metadata": {},
     "output_type": "execute_result"
    }
   ],
   "source": [
    "df.describe()"
   ]
  },
  {
   "cell_type": "code",
   "execution_count": 15,
   "id": "535a4ad4",
   "metadata": {},
   "outputs": [
    {
     "data": {
      "text/html": [
       "<div>\n",
       "<style scoped>\n",
       "    .dataframe tbody tr th:only-of-type {\n",
       "        vertical-align: middle;\n",
       "    }\n",
       "\n",
       "    .dataframe tbody tr th {\n",
       "        vertical-align: top;\n",
       "    }\n",
       "\n",
       "    .dataframe thead tr th {\n",
       "        text-align: left;\n",
       "    }\n",
       "\n",
       "    .dataframe thead tr:last-of-type th {\n",
       "        text-align: right;\n",
       "    }\n",
       "</style>\n",
       "<table border=\"1\" class=\"dataframe\">\n",
       "  <thead>\n",
       "    <tr>\n",
       "      <th></th>\n",
       "      <th colspan=\"4\" halign=\"left\">Price</th>\n",
       "    </tr>\n",
       "    <tr>\n",
       "      <th></th>\n",
       "      <th>min</th>\n",
       "      <th>max</th>\n",
       "      <th>first</th>\n",
       "      <th>last</th>\n",
       "    </tr>\n",
       "    <tr>\n",
       "      <th>Date</th>\n",
       "      <th></th>\n",
       "      <th></th>\n",
       "      <th></th>\n",
       "      <th></th>\n",
       "    </tr>\n",
       "  </thead>\n",
       "  <tbody>\n",
       "    <tr>\n",
       "      <th>2022-01-22</th>\n",
       "      <td>2.569563e+06</td>\n",
       "      <td>2.651616e+06</td>\n",
       "      <td>2.612876e+06</td>\n",
       "      <td>2.599902e+06</td>\n",
       "    </tr>\n",
       "    <tr>\n",
       "      <th>2022-01-23</th>\n",
       "      <td>2.590171e+06</td>\n",
       "      <td>2.684088e+06</td>\n",
       "      <td>2.618144e+06</td>\n",
       "      <td>2.647666e+06</td>\n",
       "    </tr>\n",
       "    <tr>\n",
       "      <th>2022-01-24</th>\n",
       "      <td>2.500810e+06</td>\n",
       "      <td>2.796246e+06</td>\n",
       "      <td>2.701844e+06</td>\n",
       "      <td>2.710620e+06</td>\n",
       "    </tr>\n",
       "    <tr>\n",
       "      <th>2022-01-25</th>\n",
       "      <td>2.682723e+06</td>\n",
       "      <td>2.793434e+06</td>\n",
       "      <td>2.744998e+06</td>\n",
       "      <td>2.753933e+06</td>\n",
       "    </tr>\n",
       "    <tr>\n",
       "      <th>2022-01-26</th>\n",
       "      <td>2.737212e+06</td>\n",
       "      <td>2.886792e+06</td>\n",
       "      <td>2.765522e+06</td>\n",
       "      <td>2.759419e+06</td>\n",
       "    </tr>\n",
       "    <tr>\n",
       "      <th>2022-01-27</th>\n",
       "      <td>2.675445e+06</td>\n",
       "      <td>2.783678e+06</td>\n",
       "      <td>2.776740e+06</td>\n",
       "      <td>2.781455e+06</td>\n",
       "    </tr>\n",
       "    <tr>\n",
       "      <th>2022-01-28</th>\n",
       "      <td>2.725554e+06</td>\n",
       "      <td>2.843139e+06</td>\n",
       "      <td>2.803574e+06</td>\n",
       "      <td>2.830731e+06</td>\n",
       "    </tr>\n",
       "    <tr>\n",
       "      <th>2022-01-29</th>\n",
       "      <td>2.815628e+06</td>\n",
       "      <td>2.888243e+06</td>\n",
       "      <td>2.839002e+06</td>\n",
       "      <td>2.864444e+06</td>\n",
       "    </tr>\n",
       "    <tr>\n",
       "      <th>2022-01-30</th>\n",
       "      <td>2.819927e+06</td>\n",
       "      <td>2.876795e+06</td>\n",
       "      <td>2.867473e+06</td>\n",
       "      <td>2.842385e+06</td>\n",
       "    </tr>\n",
       "    <tr>\n",
       "      <th>2022-01-31</th>\n",
       "      <td>2.770815e+06</td>\n",
       "      <td>2.876451e+06</td>\n",
       "      <td>2.850502e+06</td>\n",
       "      <td>2.869982e+06</td>\n",
       "    </tr>\n",
       "    <tr>\n",
       "      <th>2022-02-01</th>\n",
       "      <td>2.857417e+06</td>\n",
       "      <td>2.920790e+06</td>\n",
       "      <td>2.874540e+06</td>\n",
       "      <td>2.895048e+06</td>\n",
       "    </tr>\n",
       "    <tr>\n",
       "      <th>2022-02-02</th>\n",
       "      <td>2.760745e+06</td>\n",
       "      <td>2.900352e+06</td>\n",
       "      <td>2.900352e+06</td>\n",
       "      <td>2.784198e+06</td>\n",
       "    </tr>\n",
       "    <tr>\n",
       "      <th>2022-02-03</th>\n",
       "      <td>2.722461e+06</td>\n",
       "      <td>2.782761e+06</td>\n",
       "      <td>2.768512e+06</td>\n",
       "      <td>2.756516e+06</td>\n",
       "    </tr>\n",
       "    <tr>\n",
       "      <th>2022-02-04</th>\n",
       "      <td>2.769399e+06</td>\n",
       "      <td>3.044009e+06</td>\n",
       "      <td>2.769399e+06</td>\n",
       "      <td>3.039415e+06</td>\n",
       "    </tr>\n",
       "    <tr>\n",
       "      <th>2022-02-05</th>\n",
       "      <td>3.084028e+06</td>\n",
       "      <td>3.123051e+06</td>\n",
       "      <td>3.110800e+06</td>\n",
       "      <td>3.110023e+06</td>\n",
       "    </tr>\n",
       "    <tr>\n",
       "      <th>2022-02-06</th>\n",
       "      <td>3.089481e+06</td>\n",
       "      <td>3.117946e+06</td>\n",
       "      <td>3.097353e+06</td>\n",
       "      <td>3.113178e+06</td>\n",
       "    </tr>\n",
       "    <tr>\n",
       "      <th>2022-02-07</th>\n",
       "      <td>3.126759e+06</td>\n",
       "      <td>3.314759e+06</td>\n",
       "      <td>3.170468e+06</td>\n",
       "      <td>3.298614e+06</td>\n",
       "    </tr>\n",
       "    <tr>\n",
       "      <th>2022-02-08</th>\n",
       "      <td>3.215009e+06</td>\n",
       "      <td>3.359929e+06</td>\n",
       "      <td>3.278247e+06</td>\n",
       "      <td>3.298362e+06</td>\n",
       "    </tr>\n",
       "    <tr>\n",
       "      <th>2022-02-09</th>\n",
       "      <td>3.238854e+06</td>\n",
       "      <td>3.351180e+06</td>\n",
       "      <td>3.300386e+06</td>\n",
       "      <td>3.339275e+06</td>\n",
       "    </tr>\n",
       "    <tr>\n",
       "      <th>2022-02-10</th>\n",
       "      <td>3.281521e+06</td>\n",
       "      <td>3.417080e+06</td>\n",
       "      <td>3.320321e+06</td>\n",
       "      <td>3.318229e+06</td>\n",
       "    </tr>\n",
       "    <tr>\n",
       "      <th>2022-02-11</th>\n",
       "      <td>3.190309e+06</td>\n",
       "      <td>3.301102e+06</td>\n",
       "      <td>3.295611e+06</td>\n",
       "      <td>3.190309e+06</td>\n",
       "    </tr>\n",
       "    <tr>\n",
       "      <th>2022-02-12</th>\n",
       "      <td>3.175899e+06</td>\n",
       "      <td>3.246427e+06</td>\n",
       "      <td>3.210701e+06</td>\n",
       "      <td>3.194482e+06</td>\n",
       "    </tr>\n",
       "    <tr>\n",
       "      <th>2022-02-13</th>\n",
       "      <td>3.177907e+06</td>\n",
       "      <td>3.227867e+06</td>\n",
       "      <td>3.196279e+06</td>\n",
       "      <td>3.201448e+06</td>\n",
       "    </tr>\n",
       "    <tr>\n",
       "      <th>2022-02-14</th>\n",
       "      <td>3.158875e+06</td>\n",
       "      <td>3.233638e+06</td>\n",
       "      <td>3.188013e+06</td>\n",
       "      <td>3.233638e+06</td>\n",
       "    </tr>\n",
       "    <tr>\n",
       "      <th>2022-02-15</th>\n",
       "      <td>3.221763e+06</td>\n",
       "      <td>3.340269e+06</td>\n",
       "      <td>3.226825e+06</td>\n",
       "      <td>3.328370e+06</td>\n",
       "    </tr>\n",
       "    <tr>\n",
       "      <th>2022-02-16</th>\n",
       "      <td>3.268918e+06</td>\n",
       "      <td>3.350875e+06</td>\n",
       "      <td>3.350875e+06</td>\n",
       "      <td>3.305542e+06</td>\n",
       "    </tr>\n",
       "    <tr>\n",
       "      <th>2022-02-17</th>\n",
       "      <td>3.060773e+06</td>\n",
       "      <td>3.308066e+06</td>\n",
       "      <td>3.294813e+06</td>\n",
       "      <td>3.060773e+06</td>\n",
       "    </tr>\n",
       "    <tr>\n",
       "      <th>2022-02-18</th>\n",
       "      <td>2.973324e+06</td>\n",
       "      <td>3.073495e+06</td>\n",
       "      <td>3.045351e+06</td>\n",
       "      <td>2.990289e+06</td>\n",
       "    </tr>\n",
       "    <tr>\n",
       "      <th>2022-02-19</th>\n",
       "      <td>2.974106e+06</td>\n",
       "      <td>3.020406e+06</td>\n",
       "      <td>2.992865e+06</td>\n",
       "      <td>2.995017e+06</td>\n",
       "    </tr>\n",
       "    <tr>\n",
       "      <th>2022-02-20</th>\n",
       "      <td>2.857653e+06</td>\n",
       "      <td>3.001772e+06</td>\n",
       "      <td>3.001772e+06</td>\n",
       "      <td>2.896269e+06</td>\n",
       "    </tr>\n",
       "    <tr>\n",
       "      <th>2022-02-21</th>\n",
       "      <td>2.804558e+06</td>\n",
       "      <td>2.935415e+06</td>\n",
       "      <td>2.876428e+06</td>\n",
       "      <td>2.907507e+06</td>\n",
       "    </tr>\n",
       "  </tbody>\n",
       "</table>\n",
       "</div>"
      ],
      "text/plain": [
       "                   Price                                          \n",
       "                     min           max         first          last\n",
       "Date                                                              \n",
       "2022-01-22  2.569563e+06  2.651616e+06  2.612876e+06  2.599902e+06\n",
       "2022-01-23  2.590171e+06  2.684088e+06  2.618144e+06  2.647666e+06\n",
       "2022-01-24  2.500810e+06  2.796246e+06  2.701844e+06  2.710620e+06\n",
       "2022-01-25  2.682723e+06  2.793434e+06  2.744998e+06  2.753933e+06\n",
       "2022-01-26  2.737212e+06  2.886792e+06  2.765522e+06  2.759419e+06\n",
       "2022-01-27  2.675445e+06  2.783678e+06  2.776740e+06  2.781455e+06\n",
       "2022-01-28  2.725554e+06  2.843139e+06  2.803574e+06  2.830731e+06\n",
       "2022-01-29  2.815628e+06  2.888243e+06  2.839002e+06  2.864444e+06\n",
       "2022-01-30  2.819927e+06  2.876795e+06  2.867473e+06  2.842385e+06\n",
       "2022-01-31  2.770815e+06  2.876451e+06  2.850502e+06  2.869982e+06\n",
       "2022-02-01  2.857417e+06  2.920790e+06  2.874540e+06  2.895048e+06\n",
       "2022-02-02  2.760745e+06  2.900352e+06  2.900352e+06  2.784198e+06\n",
       "2022-02-03  2.722461e+06  2.782761e+06  2.768512e+06  2.756516e+06\n",
       "2022-02-04  2.769399e+06  3.044009e+06  2.769399e+06  3.039415e+06\n",
       "2022-02-05  3.084028e+06  3.123051e+06  3.110800e+06  3.110023e+06\n",
       "2022-02-06  3.089481e+06  3.117946e+06  3.097353e+06  3.113178e+06\n",
       "2022-02-07  3.126759e+06  3.314759e+06  3.170468e+06  3.298614e+06\n",
       "2022-02-08  3.215009e+06  3.359929e+06  3.278247e+06  3.298362e+06\n",
       "2022-02-09  3.238854e+06  3.351180e+06  3.300386e+06  3.339275e+06\n",
       "2022-02-10  3.281521e+06  3.417080e+06  3.320321e+06  3.318229e+06\n",
       "2022-02-11  3.190309e+06  3.301102e+06  3.295611e+06  3.190309e+06\n",
       "2022-02-12  3.175899e+06  3.246427e+06  3.210701e+06  3.194482e+06\n",
       "2022-02-13  3.177907e+06  3.227867e+06  3.196279e+06  3.201448e+06\n",
       "2022-02-14  3.158875e+06  3.233638e+06  3.188013e+06  3.233638e+06\n",
       "2022-02-15  3.221763e+06  3.340269e+06  3.226825e+06  3.328370e+06\n",
       "2022-02-16  3.268918e+06  3.350875e+06  3.350875e+06  3.305542e+06\n",
       "2022-02-17  3.060773e+06  3.308066e+06  3.294813e+06  3.060773e+06\n",
       "2022-02-18  2.973324e+06  3.073495e+06  3.045351e+06  2.990289e+06\n",
       "2022-02-19  2.974106e+06  3.020406e+06  2.992865e+06  2.995017e+06\n",
       "2022-02-20  2.857653e+06  3.001772e+06  3.001772e+06  2.896269e+06\n",
       "2022-02-21  2.804558e+06  2.935415e+06  2.876428e+06  2.907507e+06"
      ]
     },
     "execution_count": 15,
     "metadata": {},
     "output_type": "execute_result"
    }
   ],
   "source": [
    "#Group the data\n",
    "candlestick_data = df.groupby(df.Date.dt.date).agg({'Price': ['min', 'max', 'first', 'last']})\n",
    "candlestick_data"
   ]
  },
  {
   "cell_type": "code",
   "execution_count": 24,
   "id": "d91eb7cb",
   "metadata": {},
   "outputs": [
    {
     "data": {
      "image/png": "[encoded data removed]",
      "text/plain": [
       "<Figure size 432x288 with 1 Axes>"
      ]
     },
     "metadata": {
      "needs_background": "light"
     },
     "output_type": "display_data"
    }
   ],
   "source": [
    "#Visualize data \n",
    "plt.plot(df[\"Timestamp\"],df[\"Price\"])\n",
    "plt.title(\"Bitcoin Price over time\", size=25)\n",
    "plt.xlabel(\"Time\", size=20)\n",
    "plt.ylabel(\"INR Price\", size=20)\n",
    "plt.show()"
   ]
  },
  {
   "cell_type": "code",
   "execution_count": 21,
   "id": "d92b7470",
   "metadata": {},
   "outputs": [
    {
     "data": {
      "application/vnd.plotly.v1+json": {
       "config": {
        "plotlyServerURL": "https://plot.ly"
       },
       "data": [
        {
         "close": [
          2599901.5355814975,
          2647666.2037756024,
          2710620.455390377,
          2753933.036654546,
          2759418.6059680087,
          2781455.129730742,
          2830730.725668691,
          2864443.525305977,
          2842385.239570599,
          2869982.001077789,
          2895048.0104957977,
          2784198.489908205,
          2756516.231744542,
          3039414.8674321575,
          3110023.2089993916,
          3113177.7566716336,
          3298614.494379357,
          3298361.582012032,
          3339274.510838227,
          3318228.832547011,
          3190309.246574271,
          3194482.2553093215,
          3201447.7930967426,
          3233637.8605762813,
          3328369.5057911663,
          3305542.244633365,
          3060773.081876395,
          2990288.7841381254,
          2995017.1204656097,
          2896268.8530436098,
          2907506.805499117
         ],
         "high": [
          2651616.0691560027,
          2684088.0381438355,
          2796245.8643615926,
          2793434.2324742074,
          2886791.861307747,
          2783678.3910792214,
          2843139.260754178,
          2888243.33929319,
          2876795.039253561,
          2876451.0643107123,
          2920790.0181637513,
          2900351.853544928,
          2782761.4358712495,
          3044009.4072286836,
          3123051.133851283,
          3117946.398381009,
          3314759.2134492323,
          3359928.8961848803,
          3351179.632696092,
          3417080.2153452965,
          3301102.122401156,
          3246427.0799657535,
          3227866.903908004,
          3233637.8605762813,
          3340268.7587973005,
          3350874.5043504657,
          3308066.2560149427,
          3073494.5132323164,
          3020406.0247976114,
          3001772.0993286325,
          2935414.753398542
         ],
         "low": [
          2569563.461635008,
          2590171.065827259,
          2500809.7236750885,
          2682722.6384163178,
          2737211.5747963246,
          2675445.395643013,
          2725553.8711030963,
          2815627.978636109,
          2819926.9247442875,
          2770814.55882728,
          2857416.7695832755,
          2760745.2512895903,
          2722460.5647467775,
          2769399.076177034,
          3084028.2750514606,
          3089480.8268611734,
          3126758.7210646397,
          3215009.2792432453,
          3238853.5874042814,
          3281521.470601737,
          3190309.246574271,
          3175899.380938991,
          3177907.364237764,
          3158874.9148531496,
          3221763.097665669,
          3268918.364916483,
          3060773.081876395,
          2973324.367787825,
          2974105.965584355,
          2857652.678245476,
          2804557.6056923834
         ],
         "open": [
          2612876.434783477,
          2618143.8383398005,
          2701844.49610217,
          2744997.6018328657,
          2765521.626814255,
          2776740.029637423,
          2803574.1422083415,
          2839002.0985999433,
          2867472.6647903197,
          2850501.7813540245,
          2874540.489737788,
          2900351.853544928,
          2768511.7481569285,
          2769399.076177034,
          3110800.013214825,
          3097352.5103317834,
          3170468.1196335163,
          3278247.4539981727,
          3300386.0267755273,
          3320321.427343678,
          3295610.8931699414,
          3210700.787112017,
          3196279.381329845,
          3188012.9557315456,
          3226825.3440203522,
          3350874.5043504657,
          3294812.5087760002,
          3045351.4275309504,
          2992864.9570413674,
          3001772.0993286325,
          2876427.6242639003
         ],
         "type": "candlestick",
         "x": [
          "2022-01-22",
          "2022-01-23",
          "2022-01-24",
          "2022-01-25",
          "2022-01-26",
          "2022-01-27",
          "2022-01-28",
          "2022-01-29",
          "2022-01-30",
          "2022-01-31",
          "2022-02-01",
          "2022-02-02",
          "2022-02-03",
          "2022-02-04",
          "2022-02-05",
          "2022-02-06",
          "2022-02-07",
          "2022-02-08",
          "2022-02-09",
          "2022-02-10",
          "2022-02-11",
          "2022-02-12",
          "2022-02-13",
          "2022-02-14",
          "2022-02-15",
          "2022-02-16",
          "2022-02-17",
          "2022-02-18",
          "2022-02-19",
          "2022-02-20",
          "2022-02-21"
         ]
        }
       ],
       "layout": {
        "template": {
         "data": {
          "bar": [
           {
            "error_x": {
             "color": "#2a3f5f"
            },
            "error_y": {
             "color": "#2a3f5f"
            },
            "marker": {
             "line": {
              "color": "#E5ECF6",
              "width": 0.5
             },
             "pattern": {
              "fillmode": "overlay",
              "size": 10,
              "solidity": 0.2
             }
            },
            "type": "bar"
           }
          ],
          "barpolar": [
           {
            "marker": {
             "line": {
              "color": "#E5ECF6",
              "width": 0.5
             },
             "pattern": {
              "fillmode": "overlay",
              "size": 10,
              "solidity": 0.2
             }
            },
            "type": "barpolar"
           }
          ],
          "carpet": [
           {
            "aaxis": {
             "endlinecolor": "#2a3f5f",
             "gridcolor": "white",
             "linecolor": "white",
             "minorgridcolor": "white",
             "startlinecolor": "#2a3f5f"
            },
            "baxis": {
             "endlinecolor": "#2a3f5f",
             "gridcolor": "white",
             "linecolor": "white",
             "minorgridcolor": "white",
             "startlinecolor": "#2a3f5f"
            },
            "type": "carpet"
           }
          ],
          "choropleth": [
           {
            "colorbar": {
             "outlinewidth": 0,
             "ticks": ""
            },
            "type": "choropleth"
           }
          ],
          "contour": [
           {
            "colorbar": {
             "outlinewidth": 0,
             "ticks": ""
            },
            "colorscale": [
             [
              0,
              "#0d0887"
             ],
             [
              0.1111111111111111,
              "#46039f"
             ],
             [
              0.2222222222222222,
              "#7201a8"
             ],
             [
              0.3333333333333333,
              "#9c179e"
             ],
             [
              0.4444444444444444,
              "#bd3786"
             ],
             [
              0.5555555555555556,
              "#d8576b"
             ],
             [
              0.6666666666666666,
              "#ed7953"
             ],
             [
              0.7777777777777778,
              "#fb9f3a"
             ],
             [
              0.8888888888888888,
              "#fdca26"
             ],
             [
              1,
              "#f0f921"
             ]
            ],
            "type": "contour"
           }
          ],
          "contourcarpet": [
           {
            "colorbar": {
             "outlinewidth": 0,
             "ticks": ""
            },
            "type": "contourcarpet"
           }
          ],
          "heatmap": [
           {
            "colorbar": {
             "outlinewidth": 0,
             "ticks": ""
            },
            "colorscale": [
             [
              0,
              "#0d0887"
             ],
             [
              0.1111111111111111,
              "#46039f"
             ],
             [
              0.2222222222222222,
              "#7201a8"
             ],
             [
              0.3333333333333333,
              "#9c179e"
             ],
             [
              0.4444444444444444,
              "#bd3786"
             ],
             [
              0.5555555555555556,
              "#d8576b"
             ],
             [
              0.6666666666666666,
              "#ed7953"
             ],
             [
              0.7777777777777778,
              "#fb9f3a"
             ],
             [
              0.8888888888888888,
              "#fdca26"
             ],
             [
              1,
              "#f0f921"
             ]
            ],
            "type": "heatmap"
           }
          ],
          "heatmapgl": [
           {
            "colorbar": {
             "outlinewidth": 0,
             "ticks": ""
            },
            "colorscale": [
             [
              0,
              "#0d0887"
             ],
             [
              0.1111111111111111,
              "#46039f"
             ],
             [
              0.2222222222222222,
              "#7201a8"
             ],
             [
              0.3333333333333333,
              "#9c179e"
             ],
             [
              0.4444444444444444,
              "#bd3786"
             ],
             [
              0.5555555555555556,
              "#d8576b"
             ],
             [
              0.6666666666666666,
              "#ed7953"
             ],
             [
              0.7777777777777778,
              "#fb9f3a"
             ],
             [
              0.8888888888888888,
              "#fdca26"
             ],
             [
              1,
              "#f0f921"
             ]
            ],
            "type": "heatmapgl"
           }
          ],
          "histogram": [
           {
            "marker": {
             "pattern": {
              "fillmode": "overlay",
              "size": 10,
              "solidity": 0.2
             }
            },
            "type": "histogram"
           }
          ],
          "histogram2d": [
           {
            "colorbar": {
             "outlinewidth": 0,
             "ticks": ""
            },
            "colorscale": [
             [
              0,
              "#0d0887"
             ],
             [
              0.1111111111111111,
              "#46039f"
             ],
             [
              0.2222222222222222,
              "#7201a8"
             ],
             [
              0.3333333333333333,
              "#9c179e"
             ],
             [
              0.4444444444444444,
              "#bd3786"
             ],
             [
              0.5555555555555556,
              "#d8576b"
             ],
             [
              0.6666666666666666,
              "#ed7953"
             ],
             [
              0.7777777777777778,
              "#fb9f3a"
             ],
             [
              0.8888888888888888,
              "#fdca26"
             ],
             [
              1,
              "#f0f921"
             ]
            ],
            "type": "histogram2d"
           }
          ],
          "histogram2dcontour": [
           {
            "colorbar": {
             "outlinewidth": 0,
             "ticks": ""
            },
            "colorscale": [
             [
              0,
              "#0d0887"
             ],
             [
              0.1111111111111111,
              "#46039f"
             ],
             [
              0.2222222222222222,
              "#7201a8"
             ],
             [
              0.3333333333333333,
              "#9c179e"
             ],
             [
              0.4444444444444444,
              "#bd3786"
             ],
             [
              0.5555555555555556,
              "#d8576b"
             ],
             [
              0.6666666666666666,
              "#ed7953"
             ],
             [
              0.7777777777777778,
              "#fb9f3a"
             ],
             [
              0.8888888888888888,
              "#fdca26"
             ],
             [
              1,
              "#f0f921"
             ]
            ],
            "type": "histogram2dcontour"
           }
          ],
          "mesh3d": [
           {
            "colorbar": {
             "outlinewidth": 0,
             "ticks": ""
            },
            "type": "mesh3d"
           }
          ],
          "parcoords": [
           {
            "line": {
             "colorbar": {
              "outlinewidth": 0,
              "ticks": ""
             }
            },
            "type": "parcoords"
           }
          ],
          "pie": [
           {
            "automargin": true,
            "type": "pie"
           }
          ],
          "scatter": [
           {
            "marker": {
             "colorbar": {
              "outlinewidth": 0,
              "ticks": ""
             }
            },
            "type": "scatter"
           }
          ],
          "scatter3d": [
           {
            "line": {
             "colorbar": {
              "outlinewidth": 0,
              "ticks": ""
             }
            },
            "marker": {
             "colorbar": {
              "outlinewidth": 0,
              "ticks": ""
             }
            },
            "type": "scatter3d"
           }
          ],
          "scattercarpet": [
           {
            "marker": {
             "colorbar": {
              "outlinewidth": 0,
              "ticks": ""
             }
            },
            "type": "scattercarpet"
           }
          ],
          "scattergeo": [
           {
            "marker": {
             "colorbar": {
              "outlinewidth": 0,
              "ticks": ""
             }
            },
            "type": "scattergeo"
           }
          ],
          "scattergl": [
           {
            "marker": {
             "colorbar": {
              "outlinewidth": 0,
              "ticks": ""
             }
            },
            "type": "scattergl"
           }
          ],
          "scattermapbox": [
           {
            "marker": {
             "colorbar": {
              "outlinewidth": 0,
              "ticks": ""
             }
            },
            "type": "scattermapbox"
           }
          ],
          "scatterpolar": [
           {
            "marker": {
             "colorbar": {
              "outlinewidth": 0,
              "ticks": ""
             }
            },
            "type": "scatterpolar"
           }
          ],
          "scatterpolargl": [
           {
            "marker": {
             "colorbar": {
              "outlinewidth": 0,
              "ticks": ""
             }
            },
            "type": "scatterpolargl"
           }
          ],
          "scatterternary": [
           {
            "marker": {
             "colorbar": {
              "outlinewidth": 0,
              "ticks": ""
             }
            },
            "type": "scatterternary"
           }
          ],
          "surface": [
           {
            "colorbar": {
             "outlinewidth": 0,
             "ticks": ""
            },
            "colorscale": [
             [
              0,
              "#0d0887"
             ],
             [
              0.1111111111111111,
              "#46039f"
             ],
             [
              0.2222222222222222,
              "#7201a8"
             ],
             [
              0.3333333333333333,
              "#9c179e"
             ],
             [
              0.4444444444444444,
              "#bd3786"
             ],
             [
              0.5555555555555556,
              "#d8576b"
             ],
             [
              0.6666666666666666,
              "#ed7953"
             ],
             [
              0.7777777777777778,
              "#fb9f3a"
             ],
             [
              0.8888888888888888,
              "#fdca26"
             ],
             [
              1,
              "#f0f921"
             ]
            ],
            "type": "surface"
           }
          ],
          "table": [
           {
            "cells": {
             "fill": {
              "color": "#EBF0F8"
             },
             "line": {
              "color": "white"
             }
            },
            "header": {
             "fill": {
              "color": "#C8D4E3"
             },
             "line": {
              "color": "white"
             }
            },
            "type": "table"
           }
          ]
         },
         "layout": {
          "annotationdefaults": {
           "arrowcolor": "#2a3f5f",
           "arrowhead": 0,
           "arrowwidth": 1
          },
          "autotypenumbers": "strict",
          "coloraxis": {
           "colorbar": {
            "outlinewidth": 0,
            "ticks": ""
           }
          },
          "colorscale": {
           "diverging": [
            [
             0,
             "#8e0152"
            ],
            [
             0.1,
             "#c51b7d"
            ],
            [
             0.2,
             "#de77ae"
            ],
            [
             0.3,
             "#f1b6da"
            ],
            [
             0.4,
             "#fde0ef"
            ],
            [
             0.5,
             "#f7f7f7"
            ],
            [
             0.6,
             "#e6f5d0"
            ],
            [
             0.7,
             "#b8e186"
            ],
            [
             0.8,
             "#7fbc41"
            ],
            [
             0.9,
             "#4d9221"
            ],
            [
             1,
             "#276419"
            ]
           ],
           "sequential": [
            [
             0,
             "#0d0887"
            ],
            [
             0.1111111111111111,
             "#46039f"
            ],
            [
             0.2222222222222222,
             "#7201a8"
            ],
            [
             0.3333333333333333,
             "#9c179e"
            ],
            [
             0.4444444444444444,
             "#bd3786"
            ],
            [
             0.5555555555555556,
             "#d8576b"
            ],
            [
             0.6666666666666666,
             "#ed7953"
            ],
            [
             0.7777777777777778,
             "#fb9f3a"
            ],
            [
             0.8888888888888888,
             "#fdca26"
            ],
            [
             1,
             "#f0f921"
            ]
           ],
           "sequentialminus": [
            [
             0,
             "#0d0887"
            ],
            [
             0.1111111111111111,
             "#46039f"
            ],
            [
             0.2222222222222222,
             "#7201a8"
            ],
            [
             0.3333333333333333,
             "#9c179e"
            ],
            [
             0.4444444444444444,
             "#bd3786"
            ],
            [
             0.5555555555555556,
             "#d8576b"
            ],
            [
             0.6666666666666666,
             "#ed7953"
            ],
            [
             0.7777777777777778,
             "#fb9f3a"
            ],
            [
             0.8888888888888888,
             "#fdca26"
            ],
            [
             1,
             "#f0f921"
            ]
           ]
          },
          "colorway": [
           "#636efa",
           "#EF553B",
           "#00cc96",
           "#ab63fa",
           "#FFA15A",
           "#19d3f3",
           "#FF6692",
           "#B6E880",
           "#FF97FF",
           "#FECB52"
          ],
          "font": {
           "color": "#2a3f5f"
          },
          "geo": {
           "bgcolor": "white",
           "lakecolor": "white",
           "landcolor": "#E5ECF6",
           "showlakes": true,
           "showland": true,
           "subunitcolor": "white"
          },
          "hoverlabel": {
           "align": "left"
          },
          "hovermode": "closest",
          "mapbox": {
           "style": "light"
          },
          "paper_bgcolor": "white",
          "plot_bgcolor": "#E5ECF6",
          "polar": {
           "angularaxis": {
            "gridcolor": "white",
            "linecolor": "white",
            "ticks": ""
           },
           "bgcolor": "#E5ECF6",
           "radialaxis": {
            "gridcolor": "white",
            "linecolor": "white",
            "ticks": ""
           }
          },
          "scene": {
           "xaxis": {
            "backgroundcolor": "#E5ECF6",
            "gridcolor": "white",
            "gridwidth": 2,
            "linecolor": "white",
            "showbackground": true,
            "ticks": "",
            "zerolinecolor": "white"
           },
           "yaxis": {
            "backgroundcolor": "#E5ECF6",
            "gridcolor": "white",
            "gridwidth": 2,
            "linecolor": "white",
            "showbackground": true,
            "ticks": "",
            "zerolinecolor": "white"
           },
           "zaxis": {
            "backgroundcolor": "#E5ECF6",
            "gridcolor": "white",
            "gridwidth": 2,
            "linecolor": "white",
            "showbackground": true,
            "ticks": "",
            "zerolinecolor": "white"
           }
          },
          "shapedefaults": {
           "line": {
            "color": "#2a3f5f"
           }
          },
          "ternary": {
           "aaxis": {
            "gridcolor": "white",
            "linecolor": "white",
            "ticks": ""
           },
           "baxis": {
            "gridcolor": "white",
            "linecolor": "white",
            "ticks": ""
           },
           "bgcolor": "#E5ECF6",
           "caxis": {
            "gridcolor": "white",
            "linecolor": "white",
            "ticks": ""
           }
          },
          "title": {
           "x": 0.05
          },
          "xaxis": {
           "automargin": true,
           "gridcolor": "white",
           "linecolor": "white",
           "ticks": "",
           "title": {
            "standoff": 15
           },
           "zerolinecolor": "white",
           "zerolinewidth": 2
          },
          "yaxis": {
           "automargin": true,
           "gridcolor": "white",
           "linecolor": "white",
           "ticks": "",
           "title": {
            "standoff": 15
           },
           "zerolinecolor": "white",
           "zerolinewidth": 2
          }
         }
        },
        "title": {
         "text": "Bitcoin purchase information over the past 30 days"
        },
        "xaxis": {
         "title": {
          "text": "Date"
         }
        },
        "yaxis": {
         "title": {
          "text": "Price"
         }
        }
       }
      },
      "text/html": [
       "<div>                            <div id=\"2aa0b616-2ced-4c66-a401-74fe04892336\" class=\"plotly-graph-div\" style=\"height:525px; width:100%;\"></div>            <script type=\"text/javascript\">                require([\"plotly\"], function(Plotly) {                    window.PLOTLYENV=window.PLOTLYENV || {};                                    if (document.getElementById(\"2aa0b616-2ced-4c66-a401-74fe04892336\")) {                    Plotly.newPlot(                        \"2aa0b616-2ced-4c66-a401-74fe04892336\",                        [{\"close\":[2599901.5355814975,2647666.2037756024,2710620.455390377,2753933.036654546,2759418.6059680087,2781455.129730742,2830730.725668691,2864443.525305977,2842385.239570599,2869982.001077789,2895048.0104957977,2784198.489908205,2756516.231744542,3039414.8674321575,3110023.2089993916,3113177.7566716336,3298614.494379357,3298361.582012032,3339274.510838227,3318228.832547011,3190309.246574271,3194482.2553093215,3201447.7930967426,3233637.8605762813,3328369.5057911663,3305542.244633365,3060773.081876395,2990288.7841381254,2995017.1204656097,2896268.8530436098,2907506.805499117],\"high\":[2651616.0691560027,2684088.0381438355,2796245.8643615926,2793434.2324742074,2886791.861307747,2783678.3910792214,2843139.260754178,2888243.33929319,2876795.039253561,2876451.0643107123,2920790.0181637513,2900351.853544928,2782761.4358712495,3044009.4072286836,3123051.133851283,3117946.398381009,3314759.2134492323,3359928.8961848803,3351179.632696092,3417080.2153452965,3301102.122401156,3246427.0799657535,3227866.903908004,3233637.8605762813,3340268.7587973005,3350874.5043504657,3308066.2560149427,3073494.5132323164,3020406.0247976114,3001772.0993286325,2935414.753398542],\"low\":[2569563.461635008,2590171.065827259,2500809.7236750885,2682722.6384163178,2737211.5747963246,2675445.395643013,2725553.8711030963,2815627.978636109,2819926.9247442875,2770814.55882728,2857416.7695832755,2760745.2512895903,2722460.5647467775,2769399.076177034,3084028.2750514606,3089480.8268611734,3126758.7210646397,3215009.2792432453,3238853.5874042814,3281521.470601737,3190309.246574271,3175899.380938991,3177907.364237764,3158874.9148531496,3221763.097665669,3268918.364916483,3060773.081876395,2973324.367787825,2974105.965584355,2857652.678245476,2804557.6056923834],\"open\":[2612876.434783477,2618143.8383398005,2701844.49610217,2744997.6018328657,2765521.626814255,2776740.029637423,2803574.1422083415,2839002.0985999433,2867472.6647903197,2850501.7813540245,2874540.489737788,2900351.853544928,2768511.7481569285,2769399.076177034,3110800.013214825,3097352.5103317834,3170468.1196335163,3278247.4539981727,3300386.0267755273,3320321.427343678,3295610.8931699414,3210700.787112017,3196279.381329845,3188012.9557315456,3226825.3440203522,3350874.5043504657,3294812.5087760002,3045351.4275309504,2992864.9570413674,3001772.0993286325,2876427.6242639003],\"x\":[\"2022-01-22\",\"2022-01-23\",\"2022-01-24\",\"2022-01-25\",\"2022-01-26\",\"2022-01-27\",\"2022-01-28\",\"2022-01-29\",\"2022-01-30\",\"2022-01-31\",\"2022-02-01\",\"2022-02-02\",\"2022-02-03\",\"2022-02-04\",\"2022-02-05\",\"2022-02-06\",\"2022-02-07\",\"2022-02-08\",\"2022-02-09\",\"2022-02-10\",\"2022-02-11\",\"2022-02-12\",\"2022-02-13\",\"2022-02-14\",\"2022-02-15\",\"2022-02-16\",\"2022-02-17\",\"2022-02-18\",\"2022-02-19\",\"2022-02-20\",\"2022-02-21\"],\"type\":\"candlestick\"}],                        {\"template\":{\"data\":{\"bar\":[{\"error_x\":{\"color\":\"#2a3f5f\"},\"error_y\":{\"color\":\"#2a3f5f\"},\"marker\":{\"line\":{\"color\":\"#E5ECF6\",\"width\":0.5},\"pattern\":{\"fillmode\":\"overlay\",\"size\":10,\"solidity\":0.2}},\"type\":\"bar\"}],\"barpolar\":[{\"marker\":{\"line\":{\"color\":\"#E5ECF6\",\"width\":0.5},\"pattern\":{\"fillmode\":\"overlay\",\"size\":10,\"solidity\":0.2}},\"type\":\"barpolar\"}],\"carpet\":[{\"aaxis\":{\"endlinecolor\":\"#2a3f5f\",\"gridcolor\":\"white\",\"linecolor\":\"white\",\"minorgridcolor\":\"white\",\"startlinecolor\":\"#2a3f5f\"},\"baxis\":{\"endlinecolor\":\"#2a3f5f\",\"gridcolor\":\"white\",\"linecolor\":\"white\",\"minorgridcolor\":\"white\",\"startlinecolor\":\"#2a3f5f\"},\"type\":\"carpet\"}],\"choropleth\":[{\"colorbar\":{\"outlinewidth\":0,\"ticks\":\"\"},\"type\":\"choropleth\"}],\"contour\":[{\"colorbar\":{\"outlinewidth\":0,\"ticks\":\"\"},\"colorscale\":[[0.0,\"#0d0887\"],[0.1111111111111111,\"#46039f\"],[0.2222222222222222,\"#7201a8\"],[0.3333333333333333,\"#9c179e\"],[0.4444444444444444,\"#bd3786\"],[0.5555555555555556,\"#d8576b\"],[0.6666666666666666,\"#ed7953\"],[0.7777777777777778,\"#fb9f3a\"],[0.8888888888888888,\"#fdca26\"],[1.0,\"#f0f921\"]],\"type\":\"contour\"}],\"contourcarpet\":[{\"colorbar\":{\"outlinewidth\":0,\"ticks\":\"\"},\"type\":\"contourcarpet\"}],\"heatmap\":[{\"colorbar\":{\"outlinewidth\":0,\"ticks\":\"\"},\"colorscale\":[[0.0,\"#0d0887\"],[0.1111111111111111,\"#46039f\"],[0.2222222222222222,\"#7201a8\"],[0.3333333333333333,\"#9c179e\"],[0.4444444444444444,\"#bd3786\"],[0.5555555555555556,\"#d8576b\"],[0.6666666666666666,\"#ed7953\"],[0.7777777777777778,\"#fb9f3a\"],[0.8888888888888888,\"#fdca26\"],[1.0,\"#f0f921\"]],\"type\":\"heatmap\"}],\"heatmapgl\":[{\"colorbar\":{\"outlinewidth\":0,\"ticks\":\"\"},\"colorscale\":[[0.0,\"#0d0887\"],[0.1111111111111111,\"#46039f\"],[0.2222222222222222,\"#7201a8\"],[0.3333333333333333,\"#9c179e\"],[0.4444444444444444,\"#bd3786\"],[0.5555555555555556,\"#d8576b\"],[0.6666666666666666,\"#ed7953\"],[0.7777777777777778,\"#fb9f3a\"],[0.8888888888888888,\"#fdca26\"],[1.0,\"#f0f921\"]],\"type\":\"heatmapgl\"}],\"histogram\":[{\"marker\":{\"pattern\":{\"fillmode\":\"overlay\",\"size\":10,\"solidity\":0.2}},\"type\":\"histogram\"}],\"histogram2d\":[{\"colorbar\":{\"outlinewidth\":0,\"ticks\":\"\"},\"colorscale\":[[0.0,\"#0d0887\"],[0.1111111111111111,\"#46039f\"],[0.2222222222222222,\"#7201a8\"],[0.3333333333333333,\"#9c179e\"],[0.4444444444444444,\"#bd3786\"],[0.5555555555555556,\"#d8576b\"],[0.6666666666666666,\"#ed7953\"],[0.7777777777777778,\"#fb9f3a\"],[0.8888888888888888,\"#fdca26\"],[1.0,\"#f0f921\"]],\"type\":\"histogram2d\"}],\"histogram2dcontour\":[{\"colorbar\":{\"outlinewidth\":0,\"ticks\":\"\"},\"colorscale\":[[0.0,\"#0d0887\"],[0.1111111111111111,\"#46039f\"],[0.2222222222222222,\"#7201a8\"],[0.3333333333333333,\"#9c179e\"],[0.4444444444444444,\"#bd3786\"],[0.5555555555555556,\"#d8576b\"],[0.6666666666666666,\"#ed7953\"],[0.7777777777777778,\"#fb9f3a\"],[0.8888888888888888,\"#fdca26\"],[1.0,\"#f0f921\"]],\"type\":\"histogram2dcontour\"}],\"mesh3d\":[{\"colorbar\":{\"outlinewidth\":0,\"ticks\":\"\"},\"type\":\"mesh3d\"}],\"parcoords\":[{\"line\":{\"colorbar\":{\"outlinewidth\":0,\"ticks\":\"\"}},\"type\":\"parcoords\"}],\"pie\":[{\"automargin\":true,\"type\":\"pie\"}],\"scatter\":[{\"marker\":{\"colorbar\":{\"outlinewidth\":0,\"ticks\":\"\"}},\"type\":\"scatter\"}],\"scatter3d\":[{\"line\":{\"colorbar\":{\"outlinewidth\":0,\"ticks\":\"\"}},\"marker\":{\"colorbar\":{\"outlinewidth\":0,\"ticks\":\"\"}},\"type\":\"scatter3d\"}],\"scattercarpet\":[{\"marker\":{\"colorbar\":{\"outlinewidth\":0,\"ticks\":\"\"}},\"type\":\"scattercarpet\"}],\"scattergeo\":[{\"marker\":{\"colorbar\":{\"outlinewidth\":0,\"ticks\":\"\"}},\"type\":\"scattergeo\"}],\"scattergl\":[{\"marker\":{\"colorbar\":{\"outlinewidth\":0,\"ticks\":\"\"}},\"type\":\"scattergl\"}],\"scattermapbox\":[{\"marker\":{\"colorbar\":{\"outlinewidth\":0,\"ticks\":\"\"}},\"type\":\"scattermapbox\"}],\"scatterpolar\":[{\"marker\":{\"colorbar\":{\"outlinewidth\":0,\"ticks\":\"\"}},\"type\":\"scatterpolar\"}],\"scatterpolargl\":[{\"marker\":{\"colorbar\":{\"outlinewidth\":0,\"ticks\":\"\"}},\"type\":\"scatterpolargl\"}],\"scatterternary\":[{\"marker\":{\"colorbar\":{\"outlinewidth\":0,\"ticks\":\"\"}},\"type\":\"scatterternary\"}],\"surface\":[{\"colorbar\":{\"outlinewidth\":0,\"ticks\":\"\"},\"colorscale\":[[0.0,\"#0d0887\"],[0.1111111111111111,\"#46039f\"],[0.2222222222222222,\"#7201a8\"],[0.3333333333333333,\"#9c179e\"],[0.4444444444444444,\"#bd3786\"],[0.5555555555555556,\"#d8576b\"],[0.6666666666666666,\"#ed7953\"],[0.7777777777777778,\"#fb9f3a\"],[0.8888888888888888,\"#fdca26\"],[1.0,\"#f0f921\"]],\"type\":\"surface\"}],\"table\":[{\"cells\":{\"fill\":{\"color\":\"#EBF0F8\"},\"line\":{\"color\":\"white\"}},\"header\":{\"fill\":{\"color\":\"#C8D4E3\"},\"line\":{\"color\":\"white\"}},\"type\":\"table\"}]},\"layout\":{\"annotationdefaults\":{\"arrowcolor\":\"#2a3f5f\",\"arrowhead\":0,\"arrowwidth\":1},\"autotypenumbers\":\"strict\",\"coloraxis\":{\"colorbar\":{\"outlinewidth\":0,\"ticks\":\"\"}},\"colorscale\":{\"diverging\":[[0,\"#8e0152\"],[0.1,\"#c51b7d\"],[0.2,\"#de77ae\"],[0.3,\"#f1b6da\"],[0.4,\"#fde0ef\"],[0.5,\"#f7f7f7\"],[0.6,\"#e6f5d0\"],[0.7,\"#b8e186\"],[0.8,\"#7fbc41\"],[0.9,\"#4d9221\"],[1,\"#276419\"]],\"sequential\":[[0.0,\"#0d0887\"],[0.1111111111111111,\"#46039f\"],[0.2222222222222222,\"#7201a8\"],[0.3333333333333333,\"#9c179e\"],[0.4444444444444444,\"#bd3786\"],[0.5555555555555556,\"#d8576b\"],[0.6666666666666666,\"#ed7953\"],[0.7777777777777778,\"#fb9f3a\"],[0.8888888888888888,\"#fdca26\"],[1.0,\"#f0f921\"]],\"sequentialminus\":[[0.0,\"#0d0887\"],[0.1111111111111111,\"#46039f\"],[0.2222222222222222,\"#7201a8\"],[0.3333333333333333,\"#9c179e\"],[0.4444444444444444,\"#bd3786\"],[0.5555555555555556,\"#d8576b\"],[0.6666666666666666,\"#ed7953\"],[0.7777777777777778,\"#fb9f3a\"],[0.8888888888888888,\"#fdca26\"],[1.0,\"#f0f921\"]]},\"colorway\":[\"#636efa\",\"#EF553B\",\"#00cc96\",\"#ab63fa\",\"#FFA15A\",\"#19d3f3\",\"#FF6692\",\"#B6E880\",\"#FF97FF\",\"#FECB52\"],\"font\":{\"color\":\"#2a3f5f\"},\"geo\":{\"bgcolor\":\"white\",\"lakecolor\":\"white\",\"landcolor\":\"#E5ECF6\",\"showlakes\":true,\"showland\":true,\"subunitcolor\":\"white\"},\"hoverlabel\":{\"align\":\"left\"},\"hovermode\":\"closest\",\"mapbox\":{\"style\":\"light\"},\"paper_bgcolor\":\"white\",\"plot_bgcolor\":\"#E5ECF6\",\"polar\":{\"angularaxis\":{\"gridcolor\":\"white\",\"linecolor\":\"white\",\"ticks\":\"\"},\"bgcolor\":\"#E5ECF6\",\"radialaxis\":{\"gridcolor\":\"white\",\"linecolor\":\"white\",\"ticks\":\"\"}},\"scene\":{\"xaxis\":{\"backgroundcolor\":\"#E5ECF6\",\"gridcolor\":\"white\",\"gridwidth\":2,\"linecolor\":\"white\",\"showbackground\":true,\"ticks\":\"\",\"zerolinecolor\":\"white\"},\"yaxis\":{\"backgroundcolor\":\"#E5ECF6\",\"gridcolor\":\"white\",\"gridwidth\":2,\"linecolor\":\"white\",\"showbackground\":true,\"ticks\":\"\",\"zerolinecolor\":\"white\"},\"zaxis\":{\"backgroundcolor\":\"#E5ECF6\",\"gridcolor\":\"white\",\"gridwidth\":2,\"linecolor\":\"white\",\"showbackground\":true,\"ticks\":\"\",\"zerolinecolor\":\"white\"}},\"shapedefaults\":{\"line\":{\"color\":\"#2a3f5f\"}},\"ternary\":{\"aaxis\":{\"gridcolor\":\"white\",\"linecolor\":\"white\",\"ticks\":\"\"},\"baxis\":{\"gridcolor\":\"white\",\"linecolor\":\"white\",\"ticks\":\"\"},\"bgcolor\":\"#E5ECF6\",\"caxis\":{\"gridcolor\":\"white\",\"linecolor\":\"white\",\"ticks\":\"\"}},\"title\":{\"x\":0.05},\"xaxis\":{\"automargin\":true,\"gridcolor\":\"white\",\"linecolor\":\"white\",\"ticks\":\"\",\"title\":{\"standoff\":15},\"zerolinecolor\":\"white\",\"zerolinewidth\":2},\"yaxis\":{\"automargin\":true,\"gridcolor\":\"white\",\"linecolor\":\"white\",\"ticks\":\"\",\"title\":{\"standoff\":15},\"zerolinecolor\":\"white\",\"zerolinewidth\":2}}},\"title\":{\"text\":\"Bitcoin purchase information over the past 30 days\"},\"yaxis\":{\"title\":{\"text\":\"Price\"}},\"xaxis\":{\"title\":{\"text\":\"Date\"}}},                        {\"responsive\": true}                    ).then(function(){\n",
       "                            \n",
       "var gd = document.getElementById('2aa0b616-2ced-4c66-a401-74fe04892336');\n",
       "var x = new MutationObserver(function (mutations, observer) {{\n",
       "        var display = window.getComputedStyle(gd).display;\n",
       "        if (!display || display === 'none') {{\n",
       "            console.log([gd, 'removed!']);\n",
       "            Plotly.purge(gd);\n",
       "            observer.disconnect();\n",
       "        }}\n",
       "}});\n",
       "\n",
       "// Listen for the removal of the full notebook cells\n",
       "var notebookContainer = gd.closest('#notebook-container');\n",
       "if (notebookContainer) {{\n",
       "    x.observe(notebookContainer, {childList: true});\n",
       "}}\n",
       "\n",
       "// Listen for the clearing of the current output cell\n",
       "var outputEl = gd.closest('.output');\n",
       "if (outputEl) {{\n",
       "    x.observe(outputEl, {childList: true});\n",
       "}}\n",
       "\n",
       "                        })                };                });            </script>        </div>"
      ]
     },
     "metadata": {},
     "output_type": "display_data"
    }
   ],
   "source": [
    "#Visualize data with candlestick chart.\n",
    "fig = go.Figure(data=[go.Candlestick(x=candlestick_data.index, \n",
    "                                     open=candlestick_data['Price']['first'], \n",
    "                                     high=candlestick_data['Price']['max'],\n",
    "                                     low=candlestick_data['Price']['min'], \n",
    "                                     close=candlestick_data['Price']['last'])])\n",
    "fig.update_layout(\n",
    "title=\"Bitcoin purchase information over the past 30 days\", \n",
    "yaxis_title=\"Price\",\n",
    "xaxis_title= \"Date\")\n",
    "fig.show()"
   ]
  },
  {
   "cell_type": "code",
   "execution_count": 31,
   "id": "29b17f8b",
   "metadata": {},
   "outputs": [
    {
     "name": "stdout",
     "output_type": "stream",
     "text": [
      "Timestamp    0\n",
      "Price        0\n",
      "Date         0\n",
      "dtype: int64\n"
     ]
    }
   ],
   "source": [
    "#Prepare the dataset for training - Impute numerical data.\n",
    "missing_counts = df.isna().sum().sort_values(ascending=False)\n",
    "print(missing_counts)\n",
    "#There is no missing data."
   ]
  },
  {
   "cell_type": "code",
   "execution_count": 30,
   "id": "2398872c",
   "metadata": {},
   "outputs": [],
   "source": [
    "#Preprocess data\n",
    "df.groupby(df.Date.dt.date).agg({\"Price\":['min','max','first','last']}).reset_index().to_csv('candlestick_data.csv')\n",
    "data = pd.read_csv('candlestick_data.csv')"
   ]
  },
  {
   "cell_type": "code",
   "execution_count": 38,
   "id": "196ac08a",
   "metadata": {},
   "outputs": [
    {
     "data": {
      "text/plain": [
       "Index(['Date', 'Price', 'Price.1', 'Price.2', 'Price.3'], dtype='object')"
      ]
     },
     "execution_count": 38,
     "metadata": {},
     "output_type": "execute_result"
    }
   ],
   "source": [
    "data.columns"
   ]
  },
  {
   "cell_type": "code",
   "execution_count": 41,
   "id": "655070d8",
   "metadata": {},
   "outputs": [
    {
     "data": {
      "text/html": [
       "<div>\n",
       "<style scoped>\n",
       "    .dataframe tbody tr th:only-of-type {\n",
       "        vertical-align: middle;\n",
       "    }\n",
       "\n",
       "    .dataframe tbody tr th {\n",
       "        vertical-align: top;\n",
       "    }\n",
       "\n",
       "    .dataframe thead th {\n",
       "        text-align: right;\n",
       "    }\n",
       "</style>\n",
       "<table border=\"1\" class=\"dataframe\">\n",
       "  <thead>\n",
       "    <tr style=\"text-align: right;\">\n",
       "      <th></th>\n",
       "      <th>Date</th>\n",
       "      <th>min</th>\n",
       "      <th>max</th>\n",
       "      <th>first</th>\n",
       "      <th>last</th>\n",
       "    </tr>\n",
       "  </thead>\n",
       "  <tbody>\n",
       "    <tr>\n",
       "      <th>1</th>\n",
       "      <td>2022-01-22</td>\n",
       "      <td>2569563.461635008</td>\n",
       "      <td>2651616.0691560027</td>\n",
       "      <td>2612876.434783477</td>\n",
       "      <td>2599901.5355814975</td>\n",
       "    </tr>\n",
       "    <tr>\n",
       "      <th>2</th>\n",
       "      <td>2022-01-23</td>\n",
       "      <td>2590171.065827259</td>\n",
       "      <td>2684088.0381438355</td>\n",
       "      <td>2618143.8383398005</td>\n",
       "      <td>2647666.2037756024</td>\n",
       "    </tr>\n",
       "    <tr>\n",
       "      <th>3</th>\n",
       "      <td>2022-01-24</td>\n",
       "      <td>2500809.7236750885</td>\n",
       "      <td>2796245.8643615926</td>\n",
       "      <td>2701844.49610217</td>\n",
       "      <td>2710620.455390377</td>\n",
       "    </tr>\n",
       "    <tr>\n",
       "      <th>4</th>\n",
       "      <td>2022-01-25</td>\n",
       "      <td>2682722.6384163178</td>\n",
       "      <td>2793434.2324742074</td>\n",
       "      <td>2744997.6018328657</td>\n",
       "      <td>2753933.036654546</td>\n",
       "    </tr>\n",
       "    <tr>\n",
       "      <th>5</th>\n",
       "      <td>2022-01-26</td>\n",
       "      <td>2737211.5747963246</td>\n",
       "      <td>2886791.861307747</td>\n",
       "      <td>2765521.626814255</td>\n",
       "      <td>2759418.6059680087</td>\n",
       "    </tr>\n",
       "    <tr>\n",
       "      <th>6</th>\n",
       "      <td>2022-01-27</td>\n",
       "      <td>2675445.395643013</td>\n",
       "      <td>2783678.3910792214</td>\n",
       "      <td>2776740.029637423</td>\n",
       "      <td>2781455.129730742</td>\n",
       "    </tr>\n",
       "    <tr>\n",
       "      <th>7</th>\n",
       "      <td>2022-01-28</td>\n",
       "      <td>2725553.8711030963</td>\n",
       "      <td>2843139.260754178</td>\n",
       "      <td>2803574.1422083415</td>\n",
       "      <td>2830730.725668691</td>\n",
       "    </tr>\n",
       "    <tr>\n",
       "      <th>8</th>\n",
       "      <td>2022-01-29</td>\n",
       "      <td>2815627.978636109</td>\n",
       "      <td>2888243.33929319</td>\n",
       "      <td>2839002.0985999433</td>\n",
       "      <td>2864443.525305977</td>\n",
       "    </tr>\n",
       "    <tr>\n",
       "      <th>9</th>\n",
       "      <td>2022-01-30</td>\n",
       "      <td>2819926.9247442875</td>\n",
       "      <td>2876795.039253561</td>\n",
       "      <td>2867472.6647903197</td>\n",
       "      <td>2842385.239570599</td>\n",
       "    </tr>\n",
       "    <tr>\n",
       "      <th>10</th>\n",
       "      <td>2022-01-31</td>\n",
       "      <td>2770814.55882728</td>\n",
       "      <td>2876451.0643107123</td>\n",
       "      <td>2850501.7813540245</td>\n",
       "      <td>2869982.001077789</td>\n",
       "    </tr>\n",
       "    <tr>\n",
       "      <th>11</th>\n",
       "      <td>2022-02-01</td>\n",
       "      <td>2857416.7695832755</td>\n",
       "      <td>2920790.0181637513</td>\n",
       "      <td>2874540.489737788</td>\n",
       "      <td>2895048.0104957977</td>\n",
       "    </tr>\n",
       "    <tr>\n",
       "      <th>12</th>\n",
       "      <td>2022-02-02</td>\n",
       "      <td>2760745.2512895903</td>\n",
       "      <td>2900351.853544928</td>\n",
       "      <td>2900351.853544928</td>\n",
       "      <td>2784198.489908205</td>\n",
       "    </tr>\n",
       "    <tr>\n",
       "      <th>13</th>\n",
       "      <td>2022-02-03</td>\n",
       "      <td>2722460.5647467775</td>\n",
       "      <td>2782761.4358712495</td>\n",
       "      <td>2768511.7481569285</td>\n",
       "      <td>2756516.231744542</td>\n",
       "    </tr>\n",
       "    <tr>\n",
       "      <th>14</th>\n",
       "      <td>2022-02-04</td>\n",
       "      <td>2769399.076177034</td>\n",
       "      <td>3044009.4072286836</td>\n",
       "      <td>2769399.076177034</td>\n",
       "      <td>3039414.8674321575</td>\n",
       "    </tr>\n",
       "    <tr>\n",
       "      <th>15</th>\n",
       "      <td>2022-02-05</td>\n",
       "      <td>3084028.2750514606</td>\n",
       "      <td>3123051.133851283</td>\n",
       "      <td>3110800.013214825</td>\n",
       "      <td>3110023.2089993916</td>\n",
       "    </tr>\n",
       "    <tr>\n",
       "      <th>16</th>\n",
       "      <td>2022-02-06</td>\n",
       "      <td>3089480.8268611734</td>\n",
       "      <td>3117946.398381009</td>\n",
       "      <td>3097352.5103317834</td>\n",
       "      <td>3113177.7566716336</td>\n",
       "    </tr>\n",
       "    <tr>\n",
       "      <th>17</th>\n",
       "      <td>2022-02-07</td>\n",
       "      <td>3126758.7210646397</td>\n",
       "      <td>3314759.2134492323</td>\n",
       "      <td>3170468.1196335163</td>\n",
       "      <td>3298614.494379357</td>\n",
       "    </tr>\n",
       "    <tr>\n",
       "      <th>18</th>\n",
       "      <td>2022-02-08</td>\n",
       "      <td>3215009.2792432453</td>\n",
       "      <td>3359928.8961848803</td>\n",
       "      <td>3278247.4539981727</td>\n",
       "      <td>3298361.582012032</td>\n",
       "    </tr>\n",
       "    <tr>\n",
       "      <th>19</th>\n",
       "      <td>2022-02-09</td>\n",
       "      <td>3238853.5874042814</td>\n",
       "      <td>3351179.632696092</td>\n",
       "      <td>3300386.0267755273</td>\n",
       "      <td>3339274.510838227</td>\n",
       "    </tr>\n",
       "    <tr>\n",
       "      <th>20</th>\n",
       "      <td>2022-02-10</td>\n",
       "      <td>3281521.470601737</td>\n",
       "      <td>3417080.2153452965</td>\n",
       "      <td>3320321.427343678</td>\n",
       "      <td>3318228.832547011</td>\n",
       "    </tr>\n",
       "    <tr>\n",
       "      <th>21</th>\n",
       "      <td>2022-02-11</td>\n",
       "      <td>3190309.246574271</td>\n",
       "      <td>3301102.122401156</td>\n",
       "      <td>3295610.8931699414</td>\n",
       "      <td>3190309.246574271</td>\n",
       "    </tr>\n",
       "    <tr>\n",
       "      <th>22</th>\n",
       "      <td>2022-02-12</td>\n",
       "      <td>3175899.380938991</td>\n",
       "      <td>3246427.0799657535</td>\n",
       "      <td>3210700.787112017</td>\n",
       "      <td>3194482.2553093215</td>\n",
       "    </tr>\n",
       "    <tr>\n",
       "      <th>23</th>\n",
       "      <td>2022-02-13</td>\n",
       "      <td>3177907.364237764</td>\n",
       "      <td>3227866.903908004</td>\n",
       "      <td>3196279.381329845</td>\n",
       "      <td>3201447.7930967426</td>\n",
       "    </tr>\n",
       "    <tr>\n",
       "      <th>24</th>\n",
       "      <td>2022-02-14</td>\n",
       "      <td>3158874.9148531496</td>\n",
       "      <td>3233637.8605762813</td>\n",
       "      <td>3188012.9557315456</td>\n",
       "      <td>3233637.8605762813</td>\n",
       "    </tr>\n",
       "    <tr>\n",
       "      <th>25</th>\n",
       "      <td>2022-02-15</td>\n",
       "      <td>3221763.097665669</td>\n",
       "      <td>3340268.7587973005</td>\n",
       "      <td>3226825.3440203522</td>\n",
       "      <td>3328369.5057911663</td>\n",
       "    </tr>\n",
       "    <tr>\n",
       "      <th>26</th>\n",
       "      <td>2022-02-16</td>\n",
       "      <td>3268918.364916483</td>\n",
       "      <td>3350874.5043504657</td>\n",
       "      <td>3350874.5043504657</td>\n",
       "      <td>3305542.244633365</td>\n",
       "    </tr>\n",
       "    <tr>\n",
       "      <th>27</th>\n",
       "      <td>2022-02-17</td>\n",
       "      <td>3060773.081876395</td>\n",
       "      <td>3308066.2560149427</td>\n",
       "      <td>3294812.5087760002</td>\n",
       "      <td>3060773.081876395</td>\n",
       "    </tr>\n",
       "    <tr>\n",
       "      <th>28</th>\n",
       "      <td>2022-02-18</td>\n",
       "      <td>2973324.367787825</td>\n",
       "      <td>3073494.5132323164</td>\n",
       "      <td>3045351.4275309504</td>\n",
       "      <td>2990288.7841381254</td>\n",
       "    </tr>\n",
       "    <tr>\n",
       "      <th>29</th>\n",
       "      <td>2022-02-19</td>\n",
       "      <td>2974105.965584355</td>\n",
       "      <td>3020406.0247976114</td>\n",
       "      <td>2992864.9570413674</td>\n",
       "      <td>2995017.1204656097</td>\n",
       "    </tr>\n",
       "    <tr>\n",
       "      <th>30</th>\n",
       "      <td>2022-02-20</td>\n",
       "      <td>2857652.678245476</td>\n",
       "      <td>3001772.0993286325</td>\n",
       "      <td>3001772.0993286325</td>\n",
       "      <td>2896268.8530436098</td>\n",
       "    </tr>\n",
       "    <tr>\n",
       "      <th>31</th>\n",
       "      <td>2022-02-21</td>\n",
       "      <td>2804557.6056923834</td>\n",
       "      <td>2935414.753398542</td>\n",
       "      <td>2876427.6242639003</td>\n",
       "      <td>2907506.805499117</td>\n",
       "    </tr>\n",
       "  </tbody>\n",
       "</table>\n",
       "</div>"
      ],
      "text/plain": [
       "          Date                 min                 max               first  \\\n",
       "1   2022-01-22   2569563.461635008  2651616.0691560027   2612876.434783477   \n",
       "2   2022-01-23   2590171.065827259  2684088.0381438355  2618143.8383398005   \n",
       "3   2022-01-24  2500809.7236750885  2796245.8643615926    2701844.49610217   \n",
       "4   2022-01-25  2682722.6384163178  2793434.2324742074  2744997.6018328657   \n",
       "5   2022-01-26  2737211.5747963246   2886791.861307747   2765521.626814255   \n",
       "6   2022-01-27   2675445.395643013  2783678.3910792214   2776740.029637423   \n",
       "7   2022-01-28  2725553.8711030963   2843139.260754178  2803574.1422083415   \n",
       "8   2022-01-29   2815627.978636109    2888243.33929319  2839002.0985999433   \n",
       "9   2022-01-30  2819926.9247442875   2876795.039253561  2867472.6647903197   \n",
       "10  2022-01-31    2770814.55882728  2876451.0643107123  2850501.7813540245   \n",
       "11  2022-02-01  2857416.7695832755  2920790.0181637513   2874540.489737788   \n",
       "12  2022-02-02  2760745.2512895903   2900351.853544928   2900351.853544928   \n",
       "13  2022-02-03  2722460.5647467775  2782761.4358712495  2768511.7481569285   \n",
       "14  2022-02-04   2769399.076177034  3044009.4072286836   2769399.076177034   \n",
       "15  2022-02-05  3084028.2750514606   3123051.133851283   3110800.013214825   \n",
       "16  2022-02-06  3089480.8268611734   3117946.398381009  3097352.5103317834   \n",
       "17  2022-02-07  3126758.7210646397  3314759.2134492323  3170468.1196335163   \n",
       "18  2022-02-08  3215009.2792432453  3359928.8961848803  3278247.4539981727   \n",
       "19  2022-02-09  3238853.5874042814   3351179.632696092  3300386.0267755273   \n",
       "20  2022-02-10   3281521.470601737  3417080.2153452965   3320321.427343678   \n",
       "21  2022-02-11   3190309.246574271   3301102.122401156  3295610.8931699414   \n",
       "22  2022-02-12   3175899.380938991  3246427.0799657535   3210700.787112017   \n",
       "23  2022-02-13   3177907.364237764   3227866.903908004   3196279.381329845   \n",
       "24  2022-02-14  3158874.9148531496  3233637.8605762813  3188012.9557315456   \n",
       "25  2022-02-15   3221763.097665669  3340268.7587973005  3226825.3440203522   \n",
       "26  2022-02-16   3268918.364916483  3350874.5043504657  3350874.5043504657   \n",
       "27  2022-02-17   3060773.081876395  3308066.2560149427  3294812.5087760002   \n",
       "28  2022-02-18   2973324.367787825  3073494.5132323164  3045351.4275309504   \n",
       "29  2022-02-19   2974105.965584355  3020406.0247976114  2992864.9570413674   \n",
       "30  2022-02-20   2857652.678245476  3001772.0993286325  3001772.0993286325   \n",
       "31  2022-02-21  2804557.6056923834   2935414.753398542  2876427.6242639003   \n",
       "\n",
       "                  last  \n",
       "1   2599901.5355814975  \n",
       "2   2647666.2037756024  \n",
       "3    2710620.455390377  \n",
       "4    2753933.036654546  \n",
       "5   2759418.6059680087  \n",
       "6    2781455.129730742  \n",
       "7    2830730.725668691  \n",
       "8    2864443.525305977  \n",
       "9    2842385.239570599  \n",
       "10   2869982.001077789  \n",
       "11  2895048.0104957977  \n",
       "12   2784198.489908205  \n",
       "13   2756516.231744542  \n",
       "14  3039414.8674321575  \n",
       "15  3110023.2089993916  \n",
       "16  3113177.7566716336  \n",
       "17   3298614.494379357  \n",
       "18   3298361.582012032  \n",
       "19   3339274.510838227  \n",
       "20   3318228.832547011  \n",
       "21   3190309.246574271  \n",
       "22  3194482.2553093215  \n",
       "23  3201447.7930967426  \n",
       "24  3233637.8605762813  \n",
       "25  3328369.5057911663  \n",
       "26   3305542.244633365  \n",
       "27   3060773.081876395  \n",
       "28  2990288.7841381254  \n",
       "29  2995017.1204656097  \n",
       "30  2896268.8530436098  \n",
       "31   2907506.805499117  "
      ]
     },
     "execution_count": 41,
     "metadata": {},
     "output_type": "execute_result"
    }
   ],
   "source": [
    "data.rename(columns= {'Price':'min','Price.1':'max','Price.2':'first','Price.3':'last'})"
   ]
  },
  {
   "cell_type": "code",
   "execution_count": 42,
   "id": "f3c70909",
   "metadata": {},
   "outputs": [],
   "source": [
    "x = data.iloc[:,1:4]\n",
    "y = data.iloc[:,-1]"
   ]
  },
  {
   "cell_type": "code",
   "execution_count": 44,
   "id": "44a203e4",
   "metadata": {},
   "outputs": [],
   "source": [
    "#Split the data\n",
    "x_train, x_test, y_train, y_test = train_test_split(x, y, test_size =0.2, random_state = 42)\n",
    "model = LinearRegression()"
   ]
  },
  {
   "cell_type": "code",
   "execution_count": 47,
   "id": "67bbc70a",
   "metadata": {},
   "outputs": [
    {
     "name": "stdout",
     "output_type": "stream",
     "text": [
      "[3015313.79052399 3101125.37264928 3196718.17837441 3293460.44268201\n",
      " 2844106.83979238 2821641.33946895 2899366.16236041]\n"
     ]
    }
   ],
   "source": [
    "model.fit(x_train, y_train)\n",
    "y_predicted = model.predict(x_test)\n",
    "print(y_predicted)"
   ]
  },
  {
   "cell_type": "code",
   "execution_count": 50,
   "id": "3cd0cfcf",
   "metadata": {},
   "outputs": [
    {
     "name": "stdout",
     "output_type": "stream",
     "text": [
      "0.9775168859879132\n"
     ]
    }
   ],
   "source": [
    "#Evalute the model.\n",
    "score = model.score(x_test, y_test)\n",
    "print(score)"
   ]
  },
  {
   "cell_type": "code",
   "execution_count": 58,
   "id": "6d45033d",
   "metadata": {},
   "outputs": [
    {
     "name": "stdout",
     "output_type": "stream",
     "text": [
      "Mean Square Error:  643995971.8517497\n",
      "Root Mean Square Error:  25377.075715136085\n",
      "R2 Score :  97.75168859879132 %\n"
     ]
    }
   ],
   "source": [
    "mse = mean_squared_error(y_test,y_predicted)\n",
    "print(\"Mean Square Error: \",mse)\n",
    "rmse = np.sqrt(mse)\n",
    "print(\"Root Mean Square Error: \",rmse)\n",
    "r2 = r2_score(y_test, y_predicted)\n",
    "print(\"R2 Score : \", r2*100,\"%\")"
   ]
  }
 ],
 "metadata": {
  "kernelspec": {
   "display_name": "Python 3",
   "language": "python",
   "name": "python3"
  },
  "language_info": {
   "codemirror_mode": {
    "name": "ipython",
    "version": 3
   },
   "file_extension": ".py",
   "mimetype": "text/x-python",
   "name": "python",
   "nbconvert_exporter": "python",
   "pygments_lexer": "ipython3",
   "version": "3.8.8"
  }
 },
 "nbformat": 4,
 "nbformat_minor": 5
}
